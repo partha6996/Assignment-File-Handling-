{
 "cells": [
  {
   "cell_type": "code",
   "execution_count": 1,
   "id": "009ba998-5c83-450a-9442-5d86905696a0",
   "metadata": {},
   "outputs": [],
   "source": [
    "#Task -1 >> Create a new text file and write a few lines of text into it.\n"
   ]
  },
  {
   "cell_type": "code",
   "execution_count": 41,
   "id": "8dc26bac-84c4-4710-8dc1-24efaf1e2706",
   "metadata": {},
   "outputs": [],
   "source": [
    "#Ans-\n",
    "\n",
    "file = open(\"partha.txt\", \"w\")\n",
    "file.write(\"He is a good boy.\")\n",
    "file.write(\"He works as a stuent.\")\n",
    "file.write(\"He is very dedicated towrds his studies.\")\n",
    "file.close()"
   ]
  },
  {
   "cell_type": "code",
   "execution_count": 42,
   "id": "6395fba5-e663-40e6-af64-81c3ace3ee88",
   "metadata": {},
   "outputs": [],
   "source": []
  },
  {
   "cell_type": "code",
   "execution_count": 42,
   "id": "69ec8aca-d7cf-473b-a865-fcac07170473",
   "metadata": {},
   "outputs": [],
   "source": [
    "#Task -2 >> Open and read the contents of the file you just created. "
   ]
  },
  {
   "cell_type": "code",
   "execution_count": 43,
   "id": "46962095-8881-476b-b854-2a070b0e1c6a",
   "metadata": {},
   "outputs": [],
   "source": [
    "#Ans-\n",
    "\n",
    "file = open(\"partha.txt\", \"r\" )\n"
   ]
  },
  {
   "cell_type": "code",
   "execution_count": 44,
   "id": "8b2d3cc6-5d07-4708-9991-99d8fdbf5258",
   "metadata": {},
   "outputs": [
    {
     "name": "stdout",
     "output_type": "stream",
     "text": [
      "He is a good boy.He works as a stuent.He is very dedicated towrds his studies.\n"
     ]
    }
   ],
   "source": [
    "for i in file:\n",
    "    print(i)"
   ]
  },
  {
   "cell_type": "code",
   "execution_count": 21,
   "id": "19b45be6-4f9f-42b8-a534-2fa1e8056c0c",
   "metadata": {},
   "outputs": [],
   "source": [
    "file.close()"
   ]
  },
  {
   "cell_type": "code",
   "execution_count": 22,
   "id": "8cd4027d-aa4c-41e4-82da-c397906e12a5",
   "metadata": {},
   "outputs": [],
   "source": []
  },
  {
   "cell_type": "code",
   "execution_count": 22,
   "id": "991f1a77-a8a5-4c63-b47c-5568d6c31d44",
   "metadata": {},
   "outputs": [],
   "source": [
    "#Task -3 >> Add additional text to the existing file without deleting the currrent content."
   ]
  },
  {
   "cell_type": "code",
   "execution_count": 45,
   "id": "545f3b80-f050-452c-880f-d5c5bb0cd02e",
   "metadata": {},
   "outputs": [],
   "source": [
    "#Ans-\n",
    "file = open(\"partha.txt\", \"a\")\n",
    "file.write(\"He is very sincere.\")\n",
    "file.close()"
   ]
  },
  {
   "cell_type": "code",
   "execution_count": 48,
   "id": "3e7caee9-4bd6-4343-81c0-378df4d7f25c",
   "metadata": {},
   "outputs": [],
   "source": []
  },
  {
   "cell_type": "code",
   "execution_count": 49,
   "id": "f97b2373-c17d-438d-9aef-198da7cafb1f",
   "metadata": {},
   "outputs": [],
   "source": [
    "#Task -4 >> Read and print each line from the file one by one.\n"
   ]
  },
  {
   "cell_type": "code",
   "execution_count": 63,
   "id": "e601af1a-884c-44a7-9336-558963815dc2",
   "metadata": {},
   "outputs": [],
   "source": [
    "file = open(\"partha.txt\",\"w\")\n",
    "file.write(\"He is a good boy.\\n\")\n",
    "file.write(\"He works as a stuent.\\n\")\n",
    "file.write(\"He is very dedicated towrds his studies.\\n\")\n",
    "file.write(\"He is very sincere.\\n\")\n",
    "file.close()"
   ]
  },
  {
   "cell_type": "code",
   "execution_count": 64,
   "id": "762f2433-dd56-4f82-91ef-6a7ae6323a34",
   "metadata": {},
   "outputs": [],
   "source": [
    "file = open(\"partha.txt\",\"r\")"
   ]
  },
  {
   "cell_type": "code",
   "execution_count": 65,
   "id": "8865b5e4-eca1-41b8-b7ad-86c3d864b6d4",
   "metadata": {},
   "outputs": [
    {
     "name": "stdout",
     "output_type": "stream",
     "text": [
      "He is a good boy.\n",
      "\n",
      "He works as a stuent.\n",
      "\n",
      "He is very dedicated towrds his studies.\n",
      "\n",
      "He is very sincere.\n",
      "\n"
     ]
    }
   ],
   "source": [
    "for i in file:\n",
    "    print(i)"
   ]
  },
  {
   "cell_type": "code",
   "execution_count": 66,
   "id": "03f6c673-e582-4ec5-b2ef-b7b9f975a614",
   "metadata": {},
   "outputs": [],
   "source": [
    "\n",
    "file.close()"
   ]
  },
  {
   "cell_type": "code",
   "execution_count": null,
   "id": "1731ea1f-cb18-4e7b-a18d-1da49d7154c2",
   "metadata": {},
   "outputs": [],
   "source": [
    "\n"
   ]
  },
  {
   "cell_type": "code",
   "execution_count": 67,
   "id": "2a0f42d1-6875-49c4-8882-0413312e8843",
   "metadata": {},
   "outputs": [],
   "source": [
    "#Task -5 >> Write the content of a list to a file, with each item on a new line."
   ]
  },
  {
   "cell_type": "code",
   "execution_count": 69,
   "id": "6ecdd08e-5c44-493b-895d-43004b5167f9",
   "metadata": {},
   "outputs": [
    {
     "name": "stdout",
     "output_type": "stream",
     "text": [
      "['He is a good boy.\\n', 'He works as a stuent.\\n', 'He is very dedicated towrds his studies.\\n', 'He is very sincere.\\n']\n"
     ]
    }
   ],
   "source": [
    "#Ans-\n",
    "\n",
    "file = open(\"partha.txt\",\"r\")\n",
    "print(file.readlines())\n",
    "file.close()"
   ]
  },
  {
   "cell_type": "code",
   "execution_count": null,
   "id": "a7345888-1124-4a67-aa84-f09a82739532",
   "metadata": {},
   "outputs": [],
   "source": []
  },
  {
   "cell_type": "code",
   "execution_count": 70,
   "id": "a260e8d8-5406-4565-986e-b8198552ddc0",
   "metadata": {},
   "outputs": [],
   "source": [
    "#task -6 >>  Read the file content into a list, where each line is an element of the list."
   ]
  },
  {
   "cell_type": "code",
   "execution_count": 71,
   "id": "c54313f9-f1c0-419d-93ff-e3183eda974f",
   "metadata": {},
   "outputs": [
    {
     "name": "stdout",
     "output_type": "stream",
     "text": [
      "['He is a good boy.\\n', 'He works as a stuent.\\n', 'He is very dedicated towrds his studies.\\n', 'He is very sincere.\\n']\n"
     ]
    }
   ],
   "source": [
    "#Ans-\n",
    "file = open(\"partha.txt\",\"r\")\n",
    "print(file.readlines())\n",
    "file.close()"
   ]
  },
  {
   "cell_type": "code",
   "execution_count": null,
   "id": "02580bda-b0d3-416b-a145-713468624cf5",
   "metadata": {},
   "outputs": [],
   "source": []
  },
  {
   "cell_type": "code",
   "execution_count": 72,
   "id": "b74342c4-85db-4fd1-94da-16a1099edc9d",
   "metadata": {},
   "outputs": [],
   "source": [
    "#Task -7 >> Count the total number of words in the file."
   ]
  },
  {
   "cell_type": "code",
   "execution_count": 73,
   "id": "f7d07eeb-bb73-451f-8709-b69ba4802d2d",
   "metadata": {},
   "outputs": [],
   "source": [
    "#Ans-\n",
    "import os\n"
   ]
  },
  {
   "cell_type": "code",
   "execution_count": 74,
   "id": "37aae721-55a6-4b56-838d-a796e85f58db",
   "metadata": {},
   "outputs": [
    {
     "data": {
      "text/plain": [
       "101"
      ]
     },
     "execution_count": 74,
     "metadata": {},
     "output_type": "execute_result"
    }
   ],
   "source": [
    "os.path.getsize(\"partha.txt\")"
   ]
  },
  {
   "cell_type": "code",
   "execution_count": null,
   "id": "dfc24f3d-58c8-4304-af0c-316a8640395f",
   "metadata": {},
   "outputs": [],
   "source": []
  },
  {
   "cell_type": "code",
   "execution_count": 75,
   "id": "1aa66182-c6f0-424c-b46e-904e2b7784a2",
   "metadata": {},
   "outputs": [],
   "source": [
    "#Task -8 >> Copy the contents of one file to another file ."
   ]
  },
  {
   "cell_type": "code",
   "execution_count": 80,
   "id": "a58c0e90-ca84-40f2-80ad-1b6a02236ed0",
   "metadata": {},
   "outputs": [],
   "source": [
    "#Ans-\n",
    "os.mkdir(\"new_file\")"
   ]
  },
  {
   "cell_type": "code",
   "execution_count": 81,
   "id": "9dd1704d-2e2a-44e3-ab59-0644e19e65a2",
   "metadata": {},
   "outputs": [],
   "source": [
    "import shutil"
   ]
  },
  {
   "cell_type": "code",
   "execution_count": 79,
   "id": "4546eba9-a03b-4ab9-b90e-2fb99790b5d3",
   "metadata": {},
   "outputs": [
    {
     "name": "stdout",
     "output_type": "stream",
     "text": [
      "/home/jovyan/work\n"
     ]
    }
   ],
   "source": [
    "!pwd"
   ]
  },
  {
   "cell_type": "code",
   "execution_count": 82,
   "id": "8b92c217-6755-4ea0-adfc-3a2f7041307e",
   "metadata": {},
   "outputs": [
    {
     "data": {
      "text/plain": [
       "'/home/jovyan/work/new_file/partha.txt'"
      ]
     },
     "execution_count": 82,
     "metadata": {},
     "output_type": "execute_result"
    }
   ],
   "source": [
    "shutil.copy(\"/home/jovyan/work/partha.txt\",'/home/jovyan/work/new_file')"
   ]
  },
  {
   "cell_type": "code",
   "execution_count": null,
   "id": "59cf11cc-3723-4a73-9939-61a9f0e72543",
   "metadata": {},
   "outputs": [],
   "source": []
  },
  {
   "cell_type": "code",
   "execution_count": 84,
   "id": "ca4fba12-bb81-4ae9-ab0a-95f7457589df",
   "metadata": {},
   "outputs": [],
   "source": [
    "#Task -9 >> Check if a file exists before attempting to read it."
   ]
  },
  {
   "cell_type": "code",
   "execution_count": 85,
   "id": "a7658a3d-54a1-4d3e-a49d-168cccf42f0c",
   "metadata": {},
   "outputs": [
    {
     "name": "stdout",
     "output_type": "stream",
     "text": [
      "File exists\n"
     ]
    }
   ],
   "source": [
    "#Ans-\n",
    "import os\n",
    "\n",
    "file = \"partha.txt\"\n",
    "if os.path.isfile(file):\n",
    "    print(\"File exists\")\n",
    "else:\n",
    "    print(\"File does not exist\")"
   ]
  },
  {
   "cell_type": "code",
   "execution_count": null,
   "id": "86b76755-b237-45b2-8be6-68b6f5ad8543",
   "metadata": {},
   "outputs": [],
   "source": []
  },
  {
   "cell_type": "code",
   "execution_count": 86,
   "id": "8e958fdb-42b2-4794-be5c-7e81bcafd83a",
   "metadata": {},
   "outputs": [],
   "source": [
    "#Task - 10 >> Delete a file using python."
   ]
  },
  {
   "cell_type": "code",
   "execution_count": 89,
   "id": "244de6ae-1f4c-4e27-af45-100d0754a710",
   "metadata": {},
   "outputs": [],
   "source": [
    "#Ans- \n",
    "import os\n",
    "os.rmdir(\"new file\")"
   ]
  },
  {
   "cell_type": "code",
   "execution_count": null,
   "id": "be8dddc4-5de8-4ad6-83f1-d16a539962ee",
   "metadata": {},
   "outputs": [],
   "source": []
  }
 ],
 "metadata": {
  "kernelspec": {
   "display_name": "Python 3 (ipykernel)",
   "language": "python",
   "name": "python3"
  },
  "language_info": {
   "codemirror_mode": {
    "name": "ipython",
    "version": 3
   },
   "file_extension": ".py",
   "mimetype": "text/x-python",
   "name": "python",
   "nbconvert_exporter": "python",
   "pygments_lexer": "ipython3",
   "version": "3.10.8"
  }
 },
 "nbformat": 4,
 "nbformat_minor": 5
}
